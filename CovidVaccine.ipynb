{
 "cells": [
  {
   "cell_type": "code",
   "execution_count": null,
   "metadata": {
    "collapsed": true
   },
   "outputs": [],
   "source": []
  },
  {
   "cell_type": "code",
   "execution_count": null,
   "outputs": [],
   "source": [
    "import pandas as pd\n",
    "import numpy as np\n",
    "import plotly.express as px\n",
    "import plotly.graph_objects as go\n",
    "from plotly.subplots import make_subplots\n",
    "from sklearn.preprocessing import MinMaxScaler\n",
    "import matplotlib.pyplot as plt\n",
    "import math\n",
    "from keras.models import Sequential\n",
    "from keras.layers import Dense\n",
    "from keras.layers import LSTM\n",
    "from sklearn.metrics import mean_squared_error\n",
    "import matplotlib.pyplot as plt\n",
    "import warnings\n",
    "from sklearn.model_selection import train_test_split\n",
    "import datetime\n",
    "warnings.filterwarnings(\"ignore\")\n",
    "np.random.seed(32)"
   ],
   "metadata": {
    "collapsed": false
   }
  },
  {
   "cell_type": "code",
   "execution_count": null,
   "outputs": [],
   "source": [
    "data=pd.read_csv('../input/covid-world-vaccination-progress/country_vaccinations.csv')\n",
    "data2=pd.read_csv('../input/covid-19/data/countries-aggregated.csv')"
   ],
   "metadata": {
    "collapsed": false
   }
  },
  {
   "cell_type": "code",
   "execution_count": null,
   "outputs": [],
   "source": [
    "datan=data[['country','iso_code','date','total_vaccinations_per_hundred','daily_vaccinations']]\n",
    "datan.sort_values('date',inplace=True)\n",
    "datan.dropna(inplace=True)\n",
    "fig = px.scatter(datan, x=\"total_vaccinations_per_hundred\", y='daily_vaccinations', animation_frame=\"date\", animation_group=\"iso_code\",\n",
    "           hover_name=\"iso_code\", text='iso_code',range_x=[-10,100], range_y=[-100000,1500000])\n",
    "\n",
    "fig.update_traces(marker=dict(size=32,  color='DarkSlateGrey'))\n",
    "fig.update_layout(template='plotly_dark')\n",
    "fig.show()\n"
   ],
   "metadata": {
    "collapsed": false
   }
  }
 ],
 "metadata": {
  "kernelspec": {
   "display_name": "Python 3",
   "language": "python",
   "name": "python3"
  },
  "language_info": {
   "codemirror_mode": {
    "name": "ipython",
    "version": 2
   },
   "file_extension": ".py",
   "mimetype": "text/x-python",
   "name": "python",
   "nbconvert_exporter": "python",
   "pygments_lexer": "ipython2",
   "version": "2.7.6"
  }
 },
 "nbformat": 4,
 "nbformat_minor": 0
}
