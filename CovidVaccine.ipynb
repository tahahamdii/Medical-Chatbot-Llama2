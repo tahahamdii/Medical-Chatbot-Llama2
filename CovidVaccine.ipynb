{
 "cells": [
  {
   "cell_type": "code",
   "execution_count": null,
   "metadata": {
    "collapsed": true
   },
   "outputs": [],
   "source": []
  },
  {
   "cell_type": "code",
   "execution_count": null,
   "outputs": [],
   "source": [
    "import pandas as pd\n",
    "import numpy as np\n",
    "import plotly.express as px\n",
    "import plotly.graph_objects as go\n",
    "from plotly.subplots import make_subplots\n",
    "from sklearn.preprocessing import MinMaxScaler\n",
    "import matplotlib.pyplot as plt\n",
    "import math\n",
    "from keras.models import Sequential\n",
    "from keras.layers import Dense\n",
    "from keras.layers import LSTM\n",
    "from sklearn.metrics import mean_squared_error\n",
    "import matplotlib.pyplot as plt\n",
    "import warnings\n",
    "from sklearn.model_selection import train_test_split\n",
    "import datetime\n",
    "warnings.filterwarnings(\"ignore\")\n",
    "np.random.seed(32)"
   ],
   "metadata": {
    "collapsed": false
   }
  },
  {
   "cell_type": "code",
   "execution_count": null,
   "outputs": [],
   "source": [
    "data=pd.read_csv('../input/covid-world-vaccination-progress/country_vaccinations.csv')\n",
    "data2=pd.read_csv('../input/covid-19/data/countries-aggregated.csv')"
   ],
   "metadata": {
    "collapsed": false
   }
  },
  {
   "cell_type": "code",
   "execution_count": null,
   "outputs": [],
   "source": [
    "datan=data[['country','iso_code','date','total_vaccinations_per_hundred','daily_vaccinations']]\n",
    "datan.sort_values('date',inplace=True)\n",
    "datan.dropna(inplace=True)\n",
    "fig = px.scatter(datan, x=\"total_vaccinations_per_hundred\", y='daily_vaccinations', animation_frame=\"date\", animation_group=\"iso_code\",\n",
    "           hover_name=\"iso_code\", text='iso_code',range_x=[-10,100], range_y=[-100000,1500000])\n",
    "\n",
    "fig.update_traces(marker=dict(size=32,  color='DarkSlateGrey'))\n",
    "fig.update_layout(template='plotly_dark')\n",
    "fig.show()\n"
   ],
   "metadata": {
    "collapsed": false
   }
  },
  {
   "cell_type": "code",
   "execution_count": null,
   "outputs": [],
   "source": [
    "name=input('Please enter the country name for the time series analysis :')\n",
    "datacd=data[data['country']==name]"
   ],
   "metadata": {
    "collapsed": false
   }
  },
  {
   "cell_type": "code",
   "execution_count": null,
   "outputs": [],
   "source": [
    "# Using simple LSTM code to do some time series predictions :)\n",
    "\n",
    "datacd.sort_values('date',inplace=True)\n",
    "lp='total_vaccinations_per_hundred'\n",
    "datacd.dropna(subset=[lp],inplace=True)\n",
    "datac=datacd[[lp]]\n",
    "dates=datacd['date'].values\n",
    "train,test=train_test_split(datac,test_size=0.2,shuffle=False)\n",
    "def create_test_train(dataset,look_back=1):\n",
    "    x=dataset.values[0:len(dataset)-look_back]\n",
    "    y=dataset.values[look_back:len(dataset)]\n",
    "    return x,y\n",
    "look_back = 2\n",
    "trainX, trainY = create_test_train(train, look_back)\n",
    "testX, testY = create_test_train(test, look_back)\n",
    "# reshape input to be [samples, time steps, features]\n",
    "trainX = np.reshape(trainX, (trainX.shape[0], 1, trainX.shape[1]))\n",
    "testX = np.reshape(testX, (testX.shape[0], 1, testX.shape[1]))\n",
    "\n",
    "# Making the model\n",
    "model = Sequential()\n",
    "model.add(LSTM(1000, input_shape=(1, 1)))\n",
    "model.add(Dense(1000))\n",
    "model.add(Dense(100))\n",
    "model.add(Dense(1))\n",
    "model.compile(loss='mean_squared_error', optimizer='adam')\n",
    "fitted_model=model.fit(trainX, trainY, epochs=100, batch_size=8, verbose=2,validation_data=(testX,testY))"
   ],
   "metadata": {
    "collapsed": false
   }
  },
  {
   "cell_type": "code",
   "execution_count": null,
   "outputs": [],
   "source": [
    "# Plotting the loss of the model\n",
    "plt.plot(fitted_model.history['loss'])\n",
    "plt.plot(fitted_model.history['val_loss'])"
   ],
   "metadata": {
    "collapsed": false
   }
  },
  {
   "cell_type": "code",
   "execution_count": null,
   "outputs": [],
   "source": [
    "trainPredict = fitted_model.model.predict(trainX)\n",
    "testPredict = fitted_model.model.predict(testX)\n",
    "import plotly.graph_objects as go\n",
    "from plotly.subplots import make_subplots\n",
    "\n",
    "# Create figure with secondary y-axis\n",
    "fig = make_subplots(specs=[[{\"secondary_y\": True}]])\n",
    "\n",
    "# Add traces\n",
    "fig.add_trace(\n",
    "    go.Scatter(x=datacd['date'][:len(trainPredict)],y=trainX.flatten(), name=\"Original data\"),\n",
    "    secondary_y=False,\n",
    ")\n",
    "\n",
    "fig.add_trace(\n",
    "    go.Scatter(x=datacd['date'][:len(trainPredict)],y=trainPredict.flatten(), name=\"Predicted data\"),\n",
    "    secondary_y=True,\n",
    ")\n",
    "fig.update_layout(template='plotly_dark')\n",
    "fig.show()\n"
   ],
   "metadata": {
    "collapsed": false
   }
  }
 ],
 "metadata": {
  "kernelspec": {
   "display_name": "Python 3",
   "language": "python",
   "name": "python3"
  },
  "language_info": {
   "codemirror_mode": {
    "name": "ipython",
    "version": 2
   },
   "file_extension": ".py",
   "mimetype": "text/x-python",
   "name": "python",
   "nbconvert_exporter": "python",
   "pygments_lexer": "ipython2",
   "version": "2.7.6"
  }
 },
 "nbformat": 4,
 "nbformat_minor": 0
}
