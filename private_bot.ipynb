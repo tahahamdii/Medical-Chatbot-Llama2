{
 "cells": [
  {
   "cell_type": "raw",
   "source": [],
   "metadata": {
    "collapsed": false
   }
  },
  {
   "cell_type": "code",
   "execution_count": null,
   "metadata": {
    "collapsed": true
   },
   "outputs": [],
   "source": [
    "# pip install qdrant-client groq sentence-transformers dspy-ai fastembed gradio pyjwt --upgrade"
   ]
  },
  {
   "cell_type": "code",
   "execution_count": null,
   "outputs": [],
   "source": [
    "import pandas as pd\n",
    "df = pd.read_csv(\"healthcare_dataset.csv\")"
   ],
   "metadata": {
    "collapsed": false
   }
  },
  {
   "cell_type": "code",
   "execution_count": null,
   "outputs": [],
   "source": [
    "def format_row(row):\n",
    "    return (\n",
    "        f\"Name: {row['Name']}, Age: {row['Age']}, Gender: {row['Gender']}, \"\n",
    "        f\"Blood Type: {row['Blood Type']}, Medical Condition: {row['Medical Condition']}, \"\n",
    "        f\"Date of Admission: {row['Date of Admission']}, Doctor: {row['Doctor']}, \"\n",
    "        f\"Hospital: {row['Hospital']}, Insurance Provider: {row['Insurance Provider']}, \"\n",
    "        f\"Billing Amount: {row['Billing Amount']}, Room Number: {row['Room Number']}, \"\n",
    "        f\"Admission Type: {row['Admission Type']}, Discharge Date: {row['Discharge Date']}, \"\n",
    "        f\"Medication: {row['Medication']}, Test Results: {row['Test Results']}\"\n",
    "        \"\\n\\n\".lower()\n",
    "    )\n",
    "\n",
    "# Apply the function to each row and create a new column with the formatted text\n",
    "df['formatted_text'] = df.apply(format_row, axis=1)\n",
    "\n",
    "# Convert the formatted text into a list (or any other format you need)\n",
    "text_data = df['formatted_text'].tolist()"
   ],
   "metadata": {
    "collapsed": false
   }
  }
 ],
 "metadata": {
  "kernelspec": {
   "display_name": "Python 3",
   "language": "python",
   "name": "python3"
  },
  "language_info": {
   "codemirror_mode": {
    "name": "ipython",
    "version": 2
   },
   "file_extension": ".py",
   "mimetype": "text/x-python",
   "name": "python",
   "nbconvert_exporter": "python",
   "pygments_lexer": "ipython2",
   "version": "2.7.6"
  }
 },
 "nbformat": 4,
 "nbformat_minor": 0
}
