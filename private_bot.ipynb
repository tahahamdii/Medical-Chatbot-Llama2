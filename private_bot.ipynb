{
 "cells": [
  {
   "cell_type": "raw",
   "source": [],
   "metadata": {
    "collapsed": false
   }
  },
  {
   "cell_type": "code",
   "execution_count": null,
   "metadata": {
    "collapsed": true
   },
   "outputs": [],
   "source": [
    "# pip install qdrant-client groq sentence-transformers dspy-ai fastembed gradio pyjwt --upgrade"
   ]
  },
  {
   "cell_type": "code",
   "execution_count": null,
   "outputs": [],
   "source": [
    "import pandas as pd\n",
    "df = pd.read_csv(\"healthcare_dataset.csv\")"
   ],
   "metadata": {
    "collapsed": false
   }
  },
  {
   "cell_type": "code",
   "execution_count": null,
   "outputs": [],
   "source": [
    "def format_row(row):\n",
    "    return (\n",
    "        f\"Name: {row['Name']}, Age: {row['Age']}, Gender: {row['Gender']}, \"\n",
    "        f\"Blood Type: {row['Blood Type']}, Medical Condition: {row['Medical Condition']}, \"\n",
    "        f\"Date of Admission: {row['Date of Admission']}, Doctor: {row['Doctor']}, \"\n",
    "        f\"Hospital: {row['Hospital']}, Insurance Provider: {row['Insurance Provider']}, \"\n",
    "        f\"Billing Amount: {row['Billing Amount']}, Room Number: {row['Room Number']}, \"\n",
    "        f\"Admission Type: {row['Admission Type']}, Discharge Date: {row['Discharge Date']}, \"\n",
    "        f\"Medication: {row['Medication']}, Test Results: {row['Test Results']}\"\n",
    "        \"\\n\\n\".lower()\n",
    "    )\n",
    "\n",
    "# Apply the function to each row and create a new column with the formatted text\n",
    "df['formatted_text'] = df.apply(format_row, axis=1)\n",
    "\n",
    "# Convert the formatted text into a list (or any other format you need)\n",
    "text_data = df['formatted_text'].tolist()"
   ],
   "metadata": {
    "collapsed": false
   }
  },
  {
   "cell_type": "code",
   "execution_count": null,
   "outputs": [],
   "source": [
    "from random import shuffle\n",
    "sampled_dataset = text_data[:128]\n",
    "shuffle(sampled_dataset)"
   ],
   "metadata": {
    "collapsed": false
   }
  },
  {
   "cell_type": "code",
   "execution_count": null,
   "outputs": [],
   "source": [],
   "metadata": {
    "collapsed": false
   }
  },
  {
   "cell_type": "code",
   "execution_count": null,
   "outputs": [],
   "source": [
    "#encoding\n",
    "from sentence_transformers import SentenceTransformer\n",
    "model = SentenceTransformer(\"BAAI/bge-large-en-v1.5\", device='cuda')\n",
    "vectors = model.encode(sampled_dataset)\n",
    "vectors[0].shape\n"
   ],
   "metadata": {
    "collapsed": false,
    "is_executing": true
   }
  },
  {
   "cell_type": "code",
   "execution_count": null,
   "outputs": [],
   "source": [
    "import os\n",
    "os.environ['QDRANT__SERVICE__API_KEY']=\"qdrant_api_key\"\n",
    "os.environ['QDRANT__SERVICE__JWT_RBAC']='true'"
   ],
   "metadata": {
    "collapsed": false
   }
  },
  {
   "cell_type": "code",
   "execution_count": null,
   "outputs": [],
   "source": [
    "from qdrant_client import QdrantClient\n",
    "from qdrant_client.models import Distance, VectorParams\n",
    "\n",
    "# Initialize the client\n",
    "\n",
    "client = QdrantClient(\n",
    "    url=\"https://b3cc6dd2-4f57-4e59-8799-e66f63cccca3.us-east4-0.gcp.cloud.qdrant.io:6333\",\n",
    "    # url='http://localhost:6333',\n",
    "    api_key=os.environ['QDRANT__SERVICE__API_KEY'],\n",
    ")"
   ],
   "metadata": {
    "collapsed": false
   }
  },
  {
   "cell_type": "code",
   "execution_count": null,
   "outputs": [],
   "source": [
    "client.recreate_collection(\n",
    "    collection_name=\"phi_data\",\n",
    "    vectors_config=VectorParams(size=1024, distance=Distance.COSINE),\n",
    ")\n",
    "\n",
    "client.upload_collection(\n",
    "    collection_name=\"phi_data\",\n",
    "    ids=[i for i in range(len(sampled_dataset))],\n",
    "    vectors=vectors,\n",
    "    parallel=4,\n",
    "    max_retries=3,\n",
    ")"
   ],
   "metadata": {
    "collapsed": false
   }
  },
  {
   "cell_type": "code",
   "execution_count": null,
   "outputs": [],
   "source": [
    "def get_context(text):\n",
    "    query_vector = model.encode(text)\n",
    "\n",
    "    hits = client.search(\n",
    "        collection_name=\"phi_data\",\n",
    "        query_vector=query_vector,\n",
    "        limit=3  # Return 5 closest points\n",
    "    )\n",
    "    s=''\n",
    "    for x in [sampled_dataset[i.id] for i in hits]:\n",
    "        s = s + x\n",
    "    return s"
   ],
   "metadata": {
    "collapsed": false
   }
  },
  {
   "cell_type": "code",
   "execution_count": null,
   "outputs": [],
   "source": [],
   "metadata": {
    "collapsed": false
   }
  },
  {
   "cell_type": "code",
   "execution_count": null,
   "outputs": [],
   "source": [
    "import jwt\n",
    "import time\n",
    "\n",
    "\n",
    "# API key used as the secret to sign the token\n",
    "api_key = 'eXaMplE12345Key67890Api'\n",
    "\n",
    "\n",
    "# Current time in seconds since the Unix epoch\n",
    "current_time = int(time.time())\n",
    "\n",
    "\n",
    "# JWT payload\n",
    "payload = {\n",
    "    'exp': current_time + 3600,  # Token expires in 1 hour\n",
    "    'value_exists': {\n",
    "        'collection': 'demo_collection',\n",
    "        'matches': [\n",
    "            {'key': 'user', 'value': 'John'}\n",
    "        ]\n",
    "    },\n",
    "    \"access\": [\n",
    "    {\n",
    "        \"collection\": \"demo_collection\",\n",
    "        \"access\": \"r\",\n",
    "        \"payload\": {\n",
    "            \"user\": \"John\"\n",
    "      }\n",
    "    }\n",
    "  ]  # Read-only global access\n",
    "}\n",
    "\n",
    "\n",
    "# Encode the JWT token\n",
    "encoded_jwt = jwt.encode(payload, api_key, algorithm='HS256')\n",
    "\n",
    "\n",
    "# Print the JWT token\n",
    "print(encoded_jwt)"
   ],
   "metadata": {
    "collapsed": false,
    "is_executing": true
   }
  },
  {
   "cell_type": "code",
   "execution_count": null,
   "outputs": [],
   "source": [
    "# create a dummy collection with the original API key\n",
    "\n",
    "root_client = QdrantClient(\n",
    "    url=\"http://localhost:6333\",\n",
    "    api_key=\"eXaMplE12345Key67890Api\",\n",
    ")\n",
    "\n",
    "root_client.recreate_collection(\n",
    "    collection_name=\"dummy\",\n",
    "    vectors_config=VectorParams(size=1024, distance=Distance.COSINE),\n",
    ")\n",
    "\n",
    "root_client.upload_collection(\n",
    "    collection_name=\"dummy\",\n",
    "    ids=[i for i in range(len(sampled_dataset))],\n",
    "    vectors=vectors,\n",
    "    parallel=4,\n",
    "    max_retries=3,\n",
    ")"
   ],
   "metadata": {
    "collapsed": false
   }
  },
  {
   "cell_type": "code",
   "execution_count": null,
   "outputs": [],
   "source": [
    "\n",
    "from qdrant_client import QdrantClient, models\n",
    "import numpy as np\n",
    "\n",
    "client = QdrantClient(\n",
    "    url=\"http://localhost:6333\",\n",
    "    api_key=your_role_key,\n",
    ")\n",
    "\n",
    "data = np.array(list([0.1]*1024))\n",
    "print(data.shape)\n",
    "\n",
    "client.upload_points(\n",
    "    collection_name=\"dummy\",\n",
    "    points=[\n",
    "        models.PointStruct(\n",
    "            id=\"5c56c793-69f3-4fbf-87e6-c4bf54c28c26\",\n",
    "            vector=data,\n",
    "        )])"
   ],
   "metadata": {
    "collapsed": false
   }
  },
  {
   "cell_type": "code",
   "execution_count": null,
   "outputs": [],
   "source": [
    "from dspy.retrieve.qdrant_rm import QdrantRM\n"
   ],
   "metadata": {
    "collapsed": false
   }
  },
  {
   "cell_type": "code",
   "execution_count": null,
   "outputs": [],
   "source": [
    "qdrant_retriever_model = QdrantRM(\"phi_data\", client, k=3)\n"
   ],
   "metadata": {
    "collapsed": false
   }
  },
  {
   "cell_type": "code",
   "execution_count": null,
   "outputs": [],
   "source": [
    "import dspy\n",
    "llama3 = dspy.GROQ(model='llama3-8b-8192', api_key =\"*\" )\n"
   ],
   "metadata": {
    "collapsed": false
   }
  },
  {
   "cell_type": "code",
   "execution_count": null,
   "outputs": [],
   "source": [
    "dspy.settings.configure(rm=qdrant_retriever_model, lm=llama3)\n",
    "\n",
    "class GenerateAnswer(dspy.Signature):\n",
    "    \"\"\"Answer questions with logical factoid answers.\"\"\"\n",
    "\n",
    "    context = dspy.InputField(desc=\"will contain PHI medical data of patients matched with the query\")\n",
    "    question = dspy.InputField()\n",
    "    answer = dspy.OutputField(desc=\"an answer between 10 to 20 words\")"
   ],
   "metadata": {
    "collapsed": false
   }
  },
  {
   "cell_type": "code",
   "execution_count": null,
   "outputs": [],
   "source": [
    "class RAG(dspy.Module):\n",
    "    def __init__(self, num_passages=3):\n",
    "        super().__init__()\n",
    "\n",
    "        self.retrieve = dspy.Retrieve(k=num_passages)\n",
    "        self.generate_answer = dspy.ChainOfThought(GenerateAnswer)\n",
    "\n",
    "    def forward(self, question):\n",
    "        context = get_context(question)\n",
    "        prediction = self.generate_answer(context=context, question=question)\n",
    "        return dspy.Prediction(context=context, answer=prediction.answer)"
   ],
   "metadata": {
    "collapsed": false
   }
  }
 ],
 "metadata": {
  "kernelspec": {
   "display_name": "Python 3",
   "language": "python",
   "name": "python3"
  },
  "language_info": {
   "codemirror_mode": {
    "name": "ipython",
    "version": 2
   },
   "file_extension": ".py",
   "mimetype": "text/x-python",
   "name": "python",
   "nbconvert_exporter": "python",
   "pygments_lexer": "ipython2",
   "version": "2.7.6"
  }
 },
 "nbformat": 4,
 "nbformat_minor": 0
}
